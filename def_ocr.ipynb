{
 "cells": [
  {
   "cell_type": "code",
   "execution_count": 2,
   "id": "d04b6bb7",
   "metadata": {},
   "outputs": [],
   "source": [
    "import pytesseract\n",
    "from PIL import Image"
   ]
  },
  {
   "cell_type": "code",
   "execution_count": 14,
   "id": "de6cb544",
   "metadata": {},
   "outputs": [],
   "source": [
    "from thefuzz import fuzz\n",
    "from thefuzz import process"
   ]
  },
  {
   "cell_type": "code",
   "execution_count": 15,
   "id": "68bcfc2f",
   "metadata": {},
   "outputs": [],
   "source": [
    "# Function to read the content of a text file\n",
    "def read_text_file(file_path):\n",
    "    with open(file_path, 'r') as file:\n",
    "        return file.read()"
   ]
  },
  {
   "cell_type": "code",
   "execution_count": 19,
   "id": "2751239c",
   "metadata": {},
   "outputs": [],
   "source": [
    "# Specify the path to the Tesseract executable\n",
    "# On Windows, it might look like: pytesseract.pytesseract.tesseract_cmd = r'C:\\Program Files\\Tesseract-OCR\\tesseract.exe'\n",
    "# On Linux, it might be the default path, or you may need to set it similarly if not in your PATH.\n",
    "\n",
    "# Open an image file\n",
    "file = 'ocr_data/sample_1.png'\n",
    "img = Image.open(file)"
   ]
  },
  {
   "cell_type": "code",
   "execution_count": 20,
   "id": "ba6ca3c8",
   "metadata": {},
   "outputs": [
    {
     "name": "stdout",
     "output_type": "stream",
     "text": [
      "PLANTe BOLIVIANZ.\n",
      "A Misue, Bane Lecra.\n",
      "Ex. Herbario Collegii Colambie, a N. L, Brittoa et H. H. Rusby\n",
      "\n",
      "distribute.\n",
      "Xylosma sp. 2.\n",
      "\n",
      "Sacramento, Yungas, Aug. 14, 1894.\n",
      "\n",
      "No. 2882.\n",
      "\f",
      "\n"
     ]
    }
   ],
   "source": [
    "# Use pytesseract to do OCR on the image\n",
    "text = pytesseract.image_to_string(img)\n",
    "\n",
    "# Print the text extracted from the image\n",
    "print(text)"
   ]
  },
  {
   "cell_type": "code",
   "execution_count": 21,
   "id": "2f869cac",
   "metadata": {},
   "outputs": [
    {
     "name": "stdout",
     "output_type": "stream",
     "text": [
      "PLANTAE BOLIVIANAE\n",
      "A MIGUEL BANG LECTAE\n",
      "Ex. Herbario Collegii Columbiae, a N. L. Britton et H. H. Rusby\n",
      "distributae\n",
      "Xylosma sp. n.\n",
      "Sacramento, Yungas, Aug. 14, 1894\n",
      "No. 2382.\n",
      "\n",
      "PLANTe BOLIVIANZ.\n",
      "A Misue, Bane Lecra.\n",
      "Ex. Herbario Collegii Colambie, a N. L, Brittoa et H. H. Rusby\n",
      "\n",
      "distribute.\n",
      "Xylosma sp. 2.\n",
      "\n",
      "Sacramento, Yungas, Aug. 14, 1894.\n",
      "\n",
      "No. 2882.\n",
      "\f",
      "\n"
     ]
    }
   ],
   "source": [
    "# Specify the path of the ground truth \n",
    "text_file_path = 'ocr_data/sample_1.txt'\n",
    "text_from_file = read_text_file(text_file_path)\n",
    "print(text_from_file)\n",
    "print(text)"
   ]
  },
  {
   "cell_type": "code",
   "execution_count": 22,
   "id": "a8da797c",
   "metadata": {},
   "outputs": [
    {
     "name": "stdout",
     "output_type": "stream",
     "text": [
      "Similarity score: 86\n"
     ]
    }
   ],
   "source": [
    "# Now text_from_file contains the text content of your file as a string\n",
    "# You can now compare it with the OCR output\n",
    "match_score = fuzz.ratio(text, text_from_file)\n",
    "print(f\"Similarity score: \" + str(match_score))"
   ]
  },
  {
   "cell_type": "code",
   "execution_count": 27,
   "id": "0bc007b1",
   "metadata": {},
   "outputs": [],
   "source": [
    "from PIL import Image, ImageFilter, ImageEnhance\n",
    "\n",
    "def preprocess_image(img):\n",
    "    img = img.convert('L')  # Convert to grayscale\n",
    "    img = img.resize([2 * s for s in img.size], Image.ANTIALIAS)  # Increase resolution\n",
    "    enhancer = ImageEnhance.Contrast(img)\n",
    "    img = enhancer.enhance(2)  # Increase contrast\n",
    "    img = img.filter(ImageFilter.SHARPEN)  # Sharpen image\n",
    "    return img"
   ]
  },
  {
   "cell_type": "code",
   "execution_count": 24,
   "id": "d20d78e3",
   "metadata": {},
   "outputs": [],
   "source": [
    "# --oem: OCR Engine Mode. 3 is the default and uses both legacy and LSTM engines.\n",
    "# --psm: Page Segmentation Mode. 6 assumes a uniform block of text.\n",
    "custom_config = r'--oem 3 --psm 6'"
   ]
  },
  {
   "cell_type": "code",
   "execution_count": 29,
   "id": "c078e919",
   "metadata": {},
   "outputs": [
    {
     "name": "stdout",
     "output_type": "stream",
     "text": [
      "PLANTe BOLIVIANZ.\n",
      "A Misue, Bane Lecra.\n",
      "Ex. Herbario Collegii Columbia, a N. L, Britton et H. H. Rusby\n",
      "distribute,\n",
      "Xylosma sp. 2.\n",
      "; Sacramento, Yungas, Aug. 14, 1894.\n",
      "No. 2382.\n",
      "\f",
      "\n"
     ]
    }
   ],
   "source": [
    "# Use pytesseract to do OCR on the image with configuration options\n",
    "text = pytesseract.image_to_string(img, config = custom_config)\n",
    "\n",
    "# Print the text extracted from the image\n",
    "print(text)"
   ]
  },
  {
   "cell_type": "code",
   "execution_count": 28,
   "id": "68bd328d",
   "metadata": {},
   "outputs": [
    {
     "name": "stderr",
     "output_type": "stream",
     "text": [
      "/Users/mbax9qg2/anaconda3/lib/python3.7/site-packages/ipykernel_launcher.py:5: DeprecationWarning: ANTIALIAS is deprecated and will be removed in Pillow 10 (2023-07-01). Use LANCZOS or Resampling.LANCZOS instead.\n",
      "  \"\"\"\n"
     ]
    },
    {
     "name": "stdout",
     "output_type": "stream",
     "text": [
      "PLANTe BOLIVIANZ.\n",
      "A Misue, Bane Lecra.\n",
      "Ex. Herbario Collegii Columbia, a N. L, Britton et H. H. Rusby\n",
      "distribute,\n",
      "Xylosma sp. 2.\n",
      "; Sacramento, Yungas, Aug. 14, 1894.\n",
      "No. 2382.\n",
      "\f",
      "\n"
     ]
    }
   ],
   "source": [
    "# Preprocess the Image\n",
    "preprocessed_image = preprocess_image(img)\n",
    "\n",
    "# Use pytesseract to do OCR on the image with configuration options\n",
    "text = pytesseract.image_to_string(img, config = custom_config)\n",
    "\n",
    "# Print the text extracted from the image\n",
    "print(text)"
   ]
  },
  {
   "cell_type": "code",
   "execution_count": 26,
   "id": "08001f01",
   "metadata": {},
   "outputs": [
    {
     "name": "stdout",
     "output_type": "stream",
     "text": [
      "Similarity score: 88\n"
     ]
    }
   ],
   "source": [
    "# Now text_from_file contains the text content of your file as a string\n",
    "# You can now compare it with the OCR output\n",
    "match_score = fuzz.ratio(text, text_from_file)\n",
    "print(f\"Similarity score: \" + str(match_score))"
   ]
  },
  {
   "cell_type": "code",
   "execution_count": 33,
   "id": "01b856b1",
   "metadata": {},
   "outputs": [
    {
     "name": "stdout",
     "output_type": "stream",
     "text": [
      "The grouth truth of the OCR text:\n",
      "Banksia ericifolia L.f.\n",
      "LECTOTYPE\n",
      "DETERMINAVIT A. S. George 24 April 1978.\n",
      "Western Australian Herbarium (PERTH)\n",
      "\n",
      "Text extracted:\n",
      "LEectoryre\n",
      "\n",
      "DETERMINAVIT A. S, George Re yr 198.\n",
      "Western Australian Herbarium (PERTH)\n",
      "\f",
      "\n",
      "Similarity score: 75\n",
      "Text extracted with configuration options:\n",
      "Lectoryre\n",
      "DETERMINAVIT A. S, George ZA -tyrQ 1978.\n",
      "Western Australian Herbarium (PERTH)\n",
      "\f",
      "\n",
      "Similarity score: 75\n"
     ]
    },
    {
     "name": "stderr",
     "output_type": "stream",
     "text": [
      "/Users/mbax9qg2/anaconda3/lib/python3.7/site-packages/ipykernel_launcher.py:5: DeprecationWarning: ANTIALIAS is deprecated and will be removed in Pillow 10 (2023-07-01). Use LANCZOS or Resampling.LANCZOS instead.\n",
      "  \"\"\"\n"
     ]
    },
    {
     "name": "stdout",
     "output_type": "stream",
     "text": [
      "Text extracted with configuration options:\n",
      "LEectoryre\n",
      "\n",
      "DETERMINAVIT A. S, George Re yr 198.\n",
      "Western Australian Herbarium (PERTH)\n",
      "\f",
      "\n",
      "Similarity score: 75\n",
      "Text extracted with configuration options:\n",
      "Lectoryre\n",
      "DETERMINAVIT A. S, George ZA -tyrQ 1978.\n",
      "Western Australian Herbarium (PERTH)\n",
      "\f",
      "\n",
      "Similarity score: 75\n"
     ]
    }
   ],
   "source": [
    "# Open a test image file\n",
    "file = 'ocr_data/sample_2.png'\n",
    "img = Image.open(file)\n",
    "\n",
    "# Specify the path of the ground truth \n",
    "text_file_path = 'ocr_data/sample_2.txt'\n",
    "text_from_file = read_text_file(text_file_path)\n",
    "print(\"The grouth truth of the OCR text:\")\n",
    "print(text_from_file)\n",
    "\n",
    "# Use pytesseract to do OCR on the image\n",
    "text = pytesseract.image_to_string(img)\n",
    "# Print the text extracted from the image\n",
    "print(\"Text extracted:\")\n",
    "print(text)\n",
    "# Compare it with the OCR output\n",
    "match_score = fuzz.ratio(text, text_from_file)\n",
    "print(f\"Similarity score: \" + str(match_score))\n",
    "\n",
    "# Use pytesseract with configuration options to do OCR on the image\n",
    "text = pytesseract.image_to_string(img, config = custom_config)\n",
    "# Print the text extracted from the image\n",
    "print(\"Text extracted with configuration options:\")\n",
    "print(text)\n",
    "# Compare it with the OCR output\n",
    "match_score = fuzz.ratio(text, text_from_file)\n",
    "print(f\"Similarity score: \" + str(match_score))\n",
    "\n",
    "# Preprocess the Image\n",
    "preprocessed_image = preprocess_image(img)\n",
    "# Print the text extracted from the image\n",
    "text = pytesseract.image_to_string(img)\n",
    "print(\"Text extracted with configuration options:\")\n",
    "print(text)\n",
    "# Compare it with the OCR output\n",
    "match_score = fuzz.ratio(text, text_from_file)\n",
    "print(f\"Similarity score: \" + str(match_score))\n",
    "# Print the text extracted from the image\n",
    "text = pytesseract.image_to_string(img, config = custom_config)\n",
    "print(\"Text extracted with configuration options:\")\n",
    "print(text)\n",
    "# Compare it with the OCR output\n",
    "match_score = fuzz.ratio(text, text_from_file)\n",
    "print(f\"Similarity score: \" + str(match_score))"
   ]
  },
  {
   "cell_type": "code",
   "execution_count": null,
   "id": "8fe81e87",
   "metadata": {},
   "outputs": [],
   "source": []
  }
 ],
 "metadata": {
  "kernelspec": {
   "display_name": "Python 3 (ipykernel)",
   "language": "python",
   "name": "python3"
  },
  "language_info": {
   "codemirror_mode": {
    "name": "ipython",
    "version": 3
   },
   "file_extension": ".py",
   "mimetype": "text/x-python",
   "name": "python",
   "nbconvert_exporter": "python",
   "pygments_lexer": "ipython3",
   "version": "3.7.16"
  }
 },
 "nbformat": 4,
 "nbformat_minor": 5
}
